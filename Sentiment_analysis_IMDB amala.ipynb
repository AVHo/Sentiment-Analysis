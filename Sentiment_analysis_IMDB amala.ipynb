{
 "cells": [
  {
   "cell_type": "markdown",
   "metadata": {},
   "source": [
    "# Classifying IMDB movie reviews"
   ]
  },
  {
   "cell_type": "code",
   "execution_count": 44,
   "metadata": {},
   "outputs": [],
   "source": [
    "import pandas as pd \n",
    "import numpy as np\n",
    "import matplotlib.pyplot as plt\n",
    "from sklearn.feature_extraction.text import CountVectorizer\n",
    "import utils"
   ]
  },
  {
   "cell_type": "code",
   "execution_count": 3,
   "metadata": {},
   "outputs": [
    {
     "data": {
      "text/html": [
       "<div>\n",
       "<style scoped>\n",
       "    .dataframe tbody tr th:only-of-type {\n",
       "        vertical-align: middle;\n",
       "    }\n",
       "\n",
       "    .dataframe tbody tr th {\n",
       "        vertical-align: top;\n",
       "    }\n",
       "\n",
       "    .dataframe thead th {\n",
       "        text-align: right;\n",
       "    }\n",
       "</style>\n",
       "<table border=\"1\" class=\"dataframe\">\n",
       "  <thead>\n",
       "    <tr style=\"text-align: right;\">\n",
       "      <th></th>\n",
       "      <th>review</th>\n",
       "      <th>sentiment</th>\n",
       "    </tr>\n",
       "  </thead>\n",
       "  <tbody>\n",
       "    <tr>\n",
       "      <th>0</th>\n",
       "      <td>One of the other reviewers has mentioned that ...</td>\n",
       "      <td>positive</td>\n",
       "    </tr>\n",
       "    <tr>\n",
       "      <th>1</th>\n",
       "      <td>A wonderful little production. &lt;br /&gt;&lt;br /&gt;The...</td>\n",
       "      <td>positive</td>\n",
       "    </tr>\n",
       "    <tr>\n",
       "      <th>2</th>\n",
       "      <td>I thought this was a wonderful way to spend ti...</td>\n",
       "      <td>positive</td>\n",
       "    </tr>\n",
       "    <tr>\n",
       "      <th>3</th>\n",
       "      <td>Basically there's a family where a little boy ...</td>\n",
       "      <td>negative</td>\n",
       "    </tr>\n",
       "    <tr>\n",
       "      <th>4</th>\n",
       "      <td>Petter Mattei's \"Love in the Time of Money\" is...</td>\n",
       "      <td>positive</td>\n",
       "    </tr>\n",
       "  </tbody>\n",
       "</table>\n",
       "</div>"
      ],
      "text/plain": [
       "                                              review sentiment\n",
       "0  One of the other reviewers has mentioned that ...  positive\n",
       "1  A wonderful little production. <br /><br />The...  positive\n",
       "2  I thought this was a wonderful way to spend ti...  positive\n",
       "3  Basically there's a family where a little boy ...  negative\n",
       "4  Petter Mattei's \"Love in the Time of Money\" is...  positive"
      ]
     },
     "execution_count": 3,
     "metadata": {},
     "output_type": "execute_result"
    }
   ],
   "source": [
    "movies = pd.read_csv('./input/IMDB_Dataset.csv')\n",
    "movies.head()"
   ]
  },
  {
   "cell_type": "code",
   "execution_count": 11,
   "metadata": {},
   "outputs": [
    {
     "data": {
      "text/html": [
       "<div>\n",
       "<style scoped>\n",
       "    .dataframe tbody tr th:only-of-type {\n",
       "        vertical-align: middle;\n",
       "    }\n",
       "\n",
       "    .dataframe tbody tr th {\n",
       "        vertical-align: top;\n",
       "    }\n",
       "\n",
       "    .dataframe thead th {\n",
       "        text-align: right;\n",
       "    }\n",
       "</style>\n",
       "<table border=\"1\" class=\"dataframe\">\n",
       "  <thead>\n",
       "    <tr style=\"text-align: right;\">\n",
       "      <th></th>\n",
       "      <th>review</th>\n",
       "      <th>sentiment</th>\n",
       "    </tr>\n",
       "  </thead>\n",
       "  <tbody>\n",
       "    <tr>\n",
       "      <th>count</th>\n",
       "      <td>50000</td>\n",
       "      <td>50000</td>\n",
       "    </tr>\n",
       "    <tr>\n",
       "      <th>unique</th>\n",
       "      <td>49582</td>\n",
       "      <td>2</td>\n",
       "    </tr>\n",
       "    <tr>\n",
       "      <th>top</th>\n",
       "      <td>Loved today's show!!! It was a variety and not...</td>\n",
       "      <td>positive</td>\n",
       "    </tr>\n",
       "    <tr>\n",
       "      <th>freq</th>\n",
       "      <td>5</td>\n",
       "      <td>25000</td>\n",
       "    </tr>\n",
       "  </tbody>\n",
       "</table>\n",
       "</div>"
      ],
      "text/plain": [
       "                                                   review sentiment\n",
       "count                                               50000     50000\n",
       "unique                                              49582         2\n",
       "top     Loved today's show!!! It was a variety and not...  positive\n",
       "freq                                                    5     25000"
      ]
     },
     "execution_count": 11,
     "metadata": {},
     "output_type": "execute_result"
    }
   ],
   "source": [
    "movies.describe()"
   ]
  },
  {
   "cell_type": "code",
   "execution_count": 5,
   "metadata": {},
   "outputs": [],
   "source": [
    "# Model with a Logistic Regression\n",
    "from sklearn.model_selection import train_test_split\n",
    "from sklearn.linear_model import LogisticRegression\n",
    "from sklearn.metrics import accuracy_score\n"
   ]
  },
  {
   "cell_type": "code",
   "execution_count": 13,
   "metadata": {},
   "outputs": [
    {
     "name": "stderr",
     "output_type": "stream",
     "text": [
      "Fitting and transforming: 100%|██████████| 40500/40500 [00:02<00:00, 15629.82it/s]\n",
      "/home/amala/anaconda3/lib/python3.10/site-packages/sklearn/linear_model/_logistic.py:460: ConvergenceWarning: lbfgs failed to converge (status=1):\n",
      "STOP: TOTAL NO. of ITERATIONS REACHED LIMIT.\n",
      "\n",
      "Increase the number of iterations (max_iter) or scale the data as shown in:\n",
      "    https://scikit-learn.org/stable/modules/preprocessing.html\n",
      "Please also refer to the documentation for alternative solver options:\n",
      "    https://scikit-learn.org/stable/modules/linear_model.html#logistic-regression\n",
      "  n_iter_i = _check_optimize_result(\n",
      "Predicting on validation set: 100%|██████████| 4500/4500 [00:00<00:00, 14216.06it/s]\n",
      "Transforming: 100%|██████████| 4500/4500 [00:00<00:00, 14234.94it/s]\n"
     ]
    },
    {
     "name": "stdout",
     "output_type": "stream",
     "text": [
      "Accuracy: 0.89\n"
     ]
    },
    {
     "name": "stderr",
     "output_type": "stream",
     "text": [
      "Transforming: 100%|██████████| 5000/5000 [00:00<00:00, 14357.21it/s]"
     ]
    },
    {
     "name": "stdout",
     "output_type": "stream",
     "text": [
      "Accuracy: 0.89\n"
     ]
    },
    {
     "name": "stderr",
     "output_type": "stream",
     "text": [
      "\n"
     ]
    }
   ],
   "source": [
    "#Define a TQDM wrapper for CountVectorizer\n",
    "from tqdm import tqdm\n",
    "from sklearn.base import BaseEstimator\n",
    "from sklearn.base import TransformerMixin\n",
    "from sklearn.model_selection import train_test_split\n",
    "\n",
    "class TQDMVectorizer(BaseEstimator, TransformerMixin):\n",
    "    def __init__(self, *args, **kwargs):\n",
    "        self.vectorizer = CountVectorizer(*args, **kwargs)\n",
    "    \n",
    "    def fit(self, X, y=None):\n",
    "        self.vectorizer.fit(tqdm(X, desc=\"Vectorizing\"))\n",
    "        return self\n",
    "    \n",
    "    def transform(self, X, y=None):\n",
    "        return self.vectorizer.transform(tqdm(X, desc=\"Transforming\"))\n",
    "    \n",
    "    def fit_transform(self, X, y=None):\n",
    "        return self.vectorizer.fit_transform(tqdm(X, desc=\"Fitting and transforming\"))\n",
    "    \n",
    "\n",
    "# Split the data into a training+validation, and test sets\n",
    "X_train_valid, X_test, y_train_valid, y_test = train_test_split(movies['review'], movies['sentiment'], test_size=0.1, random_state=42)\n",
    "X_train, X_valid, y_train, y_valid = train_test_split(X_train_valid, y_train_valid, test_size=0.1, random_state=42)\n",
    "\n",
    "# Create a pipeline with TQDMVectorizer and Logistic Regression\n",
    "from sklearn.pipeline import Pipeline\n",
    "\n",
    "model = Pipeline([\n",
    "    ('vectorizer', TQDMVectorizer(max_features=10000)),\n",
    "    ('classifier', LogisticRegression())\n",
    "])\n",
    "\n",
    "# Fit the model with a progress bar\n",
    "model.fit(X_train, y_train)\n",
    "\n",
    "# Evaluate the model with a progress bar\n",
    "#y_pred = model.predict(X_valid)\n",
    "y_pred = model.predict(tqdm(X_valid, desc='Predicting on validation set'))\n",
    "#accuracy = (y_valid_pred == y_valid).mean()\n",
    "accuracy = accuracy_score(y_valid, y_pred)\n",
    "print(f\"Accuracy: {accuracy:.2f}\")\n",
    "\n",
    "# Evaluate the model with test-data, with a progress bar - ALTHOUGH YOU never use test data!\n",
    "y_pred = model.predict(X_test)\n",
    "#y_pred = model.predict(tqdm(X_test, desc='Predicting on test set'))\n",
    "#accuracy = (y_test_pred == y_test).mean()\n",
    "accuracy = accuracy_score(y_test, y_pred)\n",
    "print(f\"Accuracy: {accuracy:.2f}\")"
   ]
  },
  {
   "cell_type": "code",
   "execution_count": 24,
   "metadata": {},
   "outputs": [
    {
     "name": "stdout",
     "output_type": "stream",
     "text": [
      "10 most negative words\n",
      "      coefficient            word\n",
      "9695    -2.546595           waste\n",
      "2641    -1.797144  disappointment\n",
      "768     -1.785317           awful\n",
      "9913    -1.708402           worst\n",
      "2863    -1.602802            dull\n",
      "2640    -1.591126   disappointing\n",
      "5083    -1.587477           lacks\n",
      "6731    -1.520964          poorly\n",
      "3336    -1.497179           fails\n",
      "5093    -1.448971            lame\n",
      "\n",
      "10 most positive words\n",
      "      coefficient         word\n",
      "3747     1.164659     funniest\n",
      "899      1.170954  beautifully\n",
      "3079     1.173136    enjoyable\n",
      "9882     1.182645  wonderfully\n",
      "8754     1.216493    surprised\n",
      "3810     1.234074          gem\n",
      "8664     1.342706       subtle\n",
      "8274     1.365383        solid\n",
      "8721     1.491892       superb\n",
      "7260     1.504089   refreshing\n"
     ]
    }
   ],
   "source": [
    "# Get coefficients of the model\n",
    "coefficients = model.named_steps['classifier'].coef_.flatten()\n",
    "# Get the feature names\n",
    "feature_names = model.named_steps['vectorizer'].vectorizer.get_feature_names_out()\n",
    "\n",
    "# Create a DataFrame with the coefficients and feature names\n",
    "coefficients_df = pd.DataFrame({\n",
    "    'coefficient': coefficients,\n",
    "    'word': feature_names\n",
    "})\n",
    "# Sort the DataFrame by the coefficients\n",
    "coefficients_df = coefficients_df.sort_values('coefficient')\n",
    "\n",
    "# Display the 10 most negative and 10 most positive words\n",
    "print(\"10 most negative words\")\n",
    "print(coefficients_df.head(10))\n",
    "print(\"\\n10 most positive words\")\n",
    "print(coefficients_df.tail(10))\n"
   ]
  },
  {
   "cell_type": "code",
   "execution_count": 25,
   "metadata": {},
   "outputs": [
    {
     "data": {
      "text/html": [
       "<div>\n",
       "<style scoped>\n",
       "    .dataframe tbody tr th:only-of-type {\n",
       "        vertical-align: middle;\n",
       "    }\n",
       "\n",
       "    .dataframe tbody tr th {\n",
       "        vertical-align: top;\n",
       "    }\n",
       "\n",
       "    .dataframe thead th {\n",
       "        text-align: right;\n",
       "    }\n",
       "</style>\n",
       "<table border=\"1\" class=\"dataframe\">\n",
       "  <thead>\n",
       "    <tr style=\"text-align: right;\">\n",
       "      <th></th>\n",
       "      <th>coefficient</th>\n",
       "      <th>word</th>\n",
       "    </tr>\n",
       "  </thead>\n",
       "  <tbody>\n",
       "    <tr>\n",
       "      <th>9881</th>\n",
       "      <td>0.831205</td>\n",
       "      <td>wonderful</td>\n",
       "    </tr>\n",
       "  </tbody>\n",
       "</table>\n",
       "</div>"
      ],
      "text/plain": [
       "      coefficient       word\n",
       "9881     0.831205  wonderful"
      ]
     },
     "execution_count": 25,
     "metadata": {},
     "output_type": "execute_result"
    }
   ],
   "source": [
    "coefficients_df[coefficients_df['word']=='wonderful']"
   ]
  },
  {
   "cell_type": "code",
   "execution_count": 26,
   "metadata": {},
   "outputs": [
    {
     "name": "stderr",
     "output_type": "stream",
     "text": [
      "Transforming: 100%|██████████| 50000/50000 [00:03<00:00, 15328.54it/s]\n"
     ]
    }
   ],
   "source": [
    "movies['predictions'] = model.predict(movies['review'])"
   ]
  },
  {
   "cell_type": "code",
   "execution_count": 41,
   "metadata": {},
   "outputs": [
    {
     "data": {
      "text/html": [
       "<div>\n",
       "<style scoped>\n",
       "    .dataframe tbody tr th:only-of-type {\n",
       "        vertical-align: middle;\n",
       "    }\n",
       "\n",
       "    .dataframe tbody tr th {\n",
       "        vertical-align: top;\n",
       "    }\n",
       "\n",
       "    .dataframe thead th {\n",
       "        text-align: right;\n",
       "    }\n",
       "</style>\n",
       "<table border=\"1\" class=\"dataframe\">\n",
       "  <thead>\n",
       "    <tr style=\"text-align: right;\">\n",
       "      <th></th>\n",
       "      <th>review</th>\n",
       "      <th>sentiment</th>\n",
       "      <th>predictions</th>\n",
       "    </tr>\n",
       "  </thead>\n",
       "  <tbody>\n",
       "    <tr>\n",
       "      <th>0</th>\n",
       "      <td>One of the other reviewers has mentioned that after watching just 1 Oz episode you'll be hooked....</td>\n",
       "      <td>positive</td>\n",
       "      <td>positive</td>\n",
       "    </tr>\n",
       "    <tr>\n",
       "      <th>20804</th>\n",
       "      <td>That's right. The movie is better than the book. Don't get me wrong, I love the book. But the mo...</td>\n",
       "      <td>positive</td>\n",
       "      <td>positive</td>\n",
       "    </tr>\n",
       "    <tr>\n",
       "      <th>20768</th>\n",
       "      <td>Based on an actual mining disaster, this early German talkie (with English subtitles) still rema...</td>\n",
       "      <td>positive</td>\n",
       "      <td>positive</td>\n",
       "    </tr>\n",
       "    <tr>\n",
       "      <th>20767</th>\n",
       "      <td>This particular episode of Smallville is probably the best episode to air since reunion. This is...</td>\n",
       "      <td>positive</td>\n",
       "      <td>positive</td>\n",
       "    </tr>\n",
       "    <tr>\n",
       "      <th>20766</th>\n",
       "      <td>With the release of Peter Jackson's famed \"Lord of the Rings\" trilogy, it is even easier to dism...</td>\n",
       "      <td>positive</td>\n",
       "      <td>positive</td>\n",
       "    </tr>\n",
       "    <tr>\n",
       "      <th>...</th>\n",
       "      <td>...</td>\n",
       "      <td>...</td>\n",
       "      <td>...</td>\n",
       "    </tr>\n",
       "    <tr>\n",
       "      <th>22226</th>\n",
       "      <td>The Motion Picture Association of America has seen fit to advise potential viewers and this is p...</td>\n",
       "      <td>negative</td>\n",
       "      <td>negative</td>\n",
       "    </tr>\n",
       "    <tr>\n",
       "      <th>22224</th>\n",
       "      <td>When I refer to Malice as a film noir I am not likening it to such masterpieces as Sunset Boulev...</td>\n",
       "      <td>negative</td>\n",
       "      <td>negative</td>\n",
       "    </tr>\n",
       "    <tr>\n",
       "      <th>22223</th>\n",
       "      <td>This film deals with two ex-football players who are Fred Williamson, (Mack Derringer) and Gary ...</td>\n",
       "      <td>negative</td>\n",
       "      <td>negative</td>\n",
       "    </tr>\n",
       "    <tr>\n",
       "      <th>22221</th>\n",
       "      <td>Oh dear Gods, this is awful. Stay away, just stay away. If you think you've seen bad movies, thi...</td>\n",
       "      <td>negative</td>\n",
       "      <td>negative</td>\n",
       "    </tr>\n",
       "    <tr>\n",
       "      <th>49999</th>\n",
       "      <td>No one expects the Star Trek movies to be high art, but the fans do expect a movie that is as go...</td>\n",
       "      <td>negative</td>\n",
       "      <td>negative</td>\n",
       "    </tr>\n",
       "  </tbody>\n",
       "</table>\n",
       "<p>50000 rows × 3 columns</p>\n",
       "</div>"
      ],
      "text/plain": [
       "                                                                                                    review  \\\n",
       "0      One of the other reviewers has mentioned that after watching just 1 Oz episode you'll be hooked....   \n",
       "20804  That's right. The movie is better than the book. Don't get me wrong, I love the book. But the mo...   \n",
       "20768  Based on an actual mining disaster, this early German talkie (with English subtitles) still rema...   \n",
       "20767  This particular episode of Smallville is probably the best episode to air since reunion. This is...   \n",
       "20766  With the release of Peter Jackson's famed \"Lord of the Rings\" trilogy, it is even easier to dism...   \n",
       "...                                                                                                    ...   \n",
       "22226  The Motion Picture Association of America has seen fit to advise potential viewers and this is p...   \n",
       "22224  When I refer to Malice as a film noir I am not likening it to such masterpieces as Sunset Boulev...   \n",
       "22223  This film deals with two ex-football players who are Fred Williamson, (Mack Derringer) and Gary ...   \n",
       "22221  Oh dear Gods, this is awful. Stay away, just stay away. If you think you've seen bad movies, thi...   \n",
       "49999  No one expects the Star Trek movies to be high art, but the fans do expect a movie that is as go...   \n",
       "\n",
       "      sentiment predictions  \n",
       "0      positive    positive  \n",
       "20804  positive    positive  \n",
       "20768  positive    positive  \n",
       "20767  positive    positive  \n",
       "20766  positive    positive  \n",
       "...         ...         ...  \n",
       "22226  negative    negative  \n",
       "22224  negative    negative  \n",
       "22223  negative    negative  \n",
       "22221  negative    negative  \n",
       "49999  negative    negative  \n",
       "\n",
       "[50000 rows x 3 columns]"
      ]
     },
     "execution_count": 41,
     "metadata": {},
     "output_type": "execute_result"
    }
   ],
   "source": [
    "movies_sorted = movies.sort_values(by='predictions', ascending=False)\n",
    "pd.set_option('display.max_colwidth', 100)\n",
    "movies_sorted\n"
   ]
  },
  {
   "cell_type": "code",
   "execution_count": 42,
   "metadata": {},
   "outputs": [
    {
     "name": "stdout",
     "output_type": "stream",
     "text": [
      "False negatives:\n"
     ]
    },
    {
     "data": {
      "text/html": [
       "<div>\n",
       "<style scoped>\n",
       "    .dataframe tbody tr th:only-of-type {\n",
       "        vertical-align: middle;\n",
       "    }\n",
       "\n",
       "    .dataframe tbody tr th {\n",
       "        vertical-align: top;\n",
       "    }\n",
       "\n",
       "    .dataframe thead th {\n",
       "        text-align: right;\n",
       "    }\n",
       "</style>\n",
       "<table border=\"1\" class=\"dataframe\">\n",
       "  <thead>\n",
       "    <tr style=\"text-align: right;\">\n",
       "      <th></th>\n",
       "      <th>review</th>\n",
       "      <th>sentiment</th>\n",
       "      <th>predictions</th>\n",
       "    </tr>\n",
       "  </thead>\n",
       "  <tbody>\n",
       "    <tr>\n",
       "      <th>6</th>\n",
       "      <td>I sure would like to see a resurrection of a up dated Seahunt series with the tech they have today it would bring back the kid excitement in me.I grew up on black and white TV and Seahunt with Gunsmoke were my hero's every week.You have my vote for a comeback of a new sea hunt.We need a change of pace in TV and this would work for a world of under water adventure.Oh by the way thank you for an outlet like this to view many viewpoints about TV and the many movies.So any ole way I believe I've got what I wanna say.Would be nice to read some more plus points about sea hunt.If my rhymes would be 10 lines would you let me submit,or leave me out to be in doubt and have me to quit,If this is so then I must go so lets do it.</td>\n",
       "      <td>positive</td>\n",
       "      <td>negative</td>\n",
       "    </tr>\n",
       "    <tr>\n",
       "      <th>16</th>\n",
       "      <td>Some films just simply should not be remade. This is one of them. In and of itself it is not a bad film. But it fails to capture the flavor and the terror of the 1963 film of the same title. Liam Neeson was excellent as he always is, and most of the cast holds up, with the exception of Owen Wilson, who just did not bring the right feel to the character of Luke. But the major fault with this version is that it strayed too far from the Shirley Jackson story in it's attempts to be grandiose and lost some of the thrill of the earlier film in a trade off for snazzier special effects. Again I will say that in and of itself it is not a bad film. But you will enjoy the friction of terror in the older version much more.</td>\n",
       "      <td>positive</td>\n",
       "      <td>negative</td>\n",
       "    </tr>\n",
       "    <tr>\n",
       "      <th>52</th>\n",
       "      <td>Bela Lugosi appeared in several of these low budget chillers for Monogram Studios in the 1940's and The Corpse Vanishes is one of the better ones.&lt;br /&gt;&lt;br /&gt;Bela plays a mad scientist who kidnaps young brides and kills them and then extracts fluid from their bodies so he can keep his ageing wife looking young. After a reporter and a doctor stay the night at his home and discover he is responsible for the brides' deaths, the following morning they report these murders to the police and the mad scientist is shot and drops dead shortly afterwards.&lt;br /&gt;&lt;br /&gt;You have got almost everything in this movie: the scientist's assistants consist of an old hag, a hunchback and dwarf (her sons), a thunderstorm and spooky passages in Bela's house. Bela and his wife find they sleep better in coffins rather than beds in the movie.&lt;br /&gt;&lt;br /&gt;The Corpse Vanishes is worth a look, especially for Bela Lugosi fans. Great fun.&lt;br /&gt;&lt;br /&gt;Rating: 3 stars out of 5.</td>\n",
       "      <td>positive</td>\n",
       "      <td>negative</td>\n",
       "    </tr>\n",
       "    <tr>\n",
       "      <th>72</th>\n",
       "      <td>I thought that Mukhsin has been wonderfully written. Its not just about entertainment. There's tonnes of subtle messages that i think Yasmin was trying to bring across. And yes, it might be confusing to some of you(especially if you didn't watch Sepet and/or Gubra for 76 times).&lt;br /&gt;&lt;br /&gt;I bet u noticed how they use characters from the two movies before right? Its really ironic how the characters relate. Like the bossy neighbour is that prostitute from Gubra. And the chick at the snooker pad turns out to be the religious and wife of the pious man in the future. &lt;br /&gt;&lt;br /&gt;And i absolutely love the voice-overs. Its crude yet awakeningly fresh. Like, when they took a shot of the Rumah Tumpangan Gamin signboard, then there was suddenly Mukhsin's voice saying 'Bismillahhirrahmannirrahim..' (the scene when he climbed the tree).&lt;br /&gt;&lt;br /&gt;It captured Malaysian's attitude(and in some mild way, sniggering at how pathetic it is) portrayed in the character. For example, even the kids can be really sharp tongued(complete with the shrill annoying voice) and simply bad mouth ppl all movie long. And how you can be such a busybody and talk about ppl, when ur own life isn't sorted out. &lt;br /&gt;&lt;br /&gt;All i can say is, this movie totally reached my expectation if not exceeded it. &lt;br /&gt;&lt;br /&gt;It kept me glued to the screen, i couldn't even take my eyes off it. Not even to make out in the cinema. Ha ha.</td>\n",
       "      <td>positive</td>\n",
       "      <td>negative</td>\n",
       "    </tr>\n",
       "    <tr>\n",
       "      <th>103</th>\n",
       "      <td>No, this hilariously horrible 70's made-for-TV horror clinker isn't about a deadly demonically possessed dessert cake. Still, this exceptionally awful, yet undeniably amusing and thus enjoyable cathode ray refuse reaches a breathtaking apex of absolute, unremitting silliness and atrociousness that's quite tasty in a so-execrable-it's-downright-awesome sort of way. Richard Crenna, looking haggard and possibly inebriated, and Yvette Mimieux, who acts as if she never got over the brutal rape she endured in \"Jackson County Jail,\" sluggishly portray a disgustingly nice and respectable suburbanite couple whose quaint, dull, sleepy small town existence gets ripped asunder when the cute German Shepard they take in as the family pet turns out to be some ancient lethal evil spirit. Pretty soon Mimieux and her two repellently cutesy kids Kim Richards and Ike Eisenmann (the psychic alien moppets from the Disney \"Witch Mountain\" pictures) are worshiping a crude crayon drawing of the nasty, ugly canine entity in the den. Boy, now doesn't that sound really scary and disturbing? Well, scary and disturbing this laughably ludicrous claptrap sure ain't, but it sure is funny, thanks to Curtis (\"Night Tide\") Harrington's hopelessly weak direction, cartoonish (not so) special effects, an almost painfully risible'n'ridiculous plot, and a game cast that struggles valiantly with the absurd story (besides the leads, both Martine Beswicke and R.G. Armstrong briefly pop up as members of a Satanic cult and Victor Jory has a nice cameo as a helpful Native American shaman). Favorite scene: the malicious Mephestophelion mutt puts the whammy on Crenna, practically forcing him to stick his hand into a wildly spinning lawnmower blade. While stuck-up snobby fright film fans may hold their noses at the perfectly putrid stench of this admittedly smelly schlock, devout TV trash lovers should deem this endearingly abominable offal the boob tube equivalent to Alpo.</td>\n",
       "      <td>positive</td>\n",
       "      <td>negative</td>\n",
       "    </tr>\n",
       "  </tbody>\n",
       "</table>\n",
       "</div>"
      ],
      "text/plain": [
       "                                                                                                                                                                                                                                                                                                                                                                                                                                                                                                                                                                                                                                                                                                                                                                                                                                                                                                                                                                                                                                                                                                                                                                                                                                                                                                                                                                                                                                                                                                                                                                                                                                                                                                                                                                                                                                                                                                                                                                                                                                     review  \\\n",
       "6                                                                                                                                                                                                                                                                                                                                                                                                                                                                                                                                                                                                                                                                                                                                                                                                                                                                                                                                                                                                                                                                                                                                                                                                                                                                                    I sure would like to see a resurrection of a up dated Seahunt series with the tech they have today it would bring back the kid excitement in me.I grew up on black and white TV and Seahunt with Gunsmoke were my hero's every week.You have my vote for a comeback of a new sea hunt.We need a change of pace in TV and this would work for a world of under water adventure.Oh by the way thank you for an outlet like this to view many viewpoints about TV and the many movies.So any ole way I believe I've got what I wanna say.Would be nice to read some more plus points about sea hunt.If my rhymes would be 10 lines would you let me submit,or leave me out to be in doubt and have me to quit,If this is so then I must go so lets do it.   \n",
       "16                                                                                                                                                                                                                                                                                                                                                                                                                                                                                                                                                                                                                                                                                                                                                                                                                                                                                                                                                                                                                                                                                                                                                                                                                                                                                         Some films just simply should not be remade. This is one of them. In and of itself it is not a bad film. But it fails to capture the flavor and the terror of the 1963 film of the same title. Liam Neeson was excellent as he always is, and most of the cast holds up, with the exception of Owen Wilson, who just did not bring the right feel to the character of Luke. But the major fault with this version is that it strayed too far from the Shirley Jackson story in it's attempts to be grandiose and lost some of the thrill of the earlier film in a trade off for snazzier special effects. Again I will say that in and of itself it is not a bad film. But you will enjoy the friction of terror in the older version much more.   \n",
       "52                                                                                                                                                                                                                                                                                                                                                                                                                                                                                                                                                                                                                                                                                                                                                                                                                                                                                                                                                                                                                                             Bela Lugosi appeared in several of these low budget chillers for Monogram Studios in the 1940's and The Corpse Vanishes is one of the better ones.<br /><br />Bela plays a mad scientist who kidnaps young brides and kills them and then extracts fluid from their bodies so he can keep his ageing wife looking young. After a reporter and a doctor stay the night at his home and discover he is responsible for the brides' deaths, the following morning they report these murders to the police and the mad scientist is shot and drops dead shortly afterwards.<br /><br />You have got almost everything in this movie: the scientist's assistants consist of an old hag, a hunchback and dwarf (her sons), a thunderstorm and spooky passages in Bela's house. Bela and his wife find they sleep better in coffins rather than beds in the movie.<br /><br />The Corpse Vanishes is worth a look, especially for Bela Lugosi fans. Great fun.<br /><br />Rating: 3 stars out of 5.   \n",
       "72                                                                                                                                                                                                                                                                                                                                                                                                                                                                                                                                                                         I thought that Mukhsin has been wonderfully written. Its not just about entertainment. There's tonnes of subtle messages that i think Yasmin was trying to bring across. And yes, it might be confusing to some of you(especially if you didn't watch Sepet and/or Gubra for 76 times).<br /><br />I bet u noticed how they use characters from the two movies before right? Its really ironic how the characters relate. Like the bossy neighbour is that prostitute from Gubra. And the chick at the snooker pad turns out to be the religious and wife of the pious man in the future. <br /><br />And i absolutely love the voice-overs. Its crude yet awakeningly fresh. Like, when they took a shot of the Rumah Tumpangan Gamin signboard, then there was suddenly Mukhsin's voice saying 'Bismillahhirrahmannirrahim..' (the scene when he climbed the tree).<br /><br />It captured Malaysian's attitude(and in some mild way, sniggering at how pathetic it is) portrayed in the character. For example, even the kids can be really sharp tongued(complete with the shrill annoying voice) and simply bad mouth ppl all movie long. And how you can be such a busybody and talk about ppl, when ur own life isn't sorted out. <br /><br />All i can say is, this movie totally reached my expectation if not exceeded it. <br /><br />It kept me glued to the screen, i couldn't even take my eyes off it. Not even to make out in the cinema. Ha ha.   \n",
       "103  No, this hilariously horrible 70's made-for-TV horror clinker isn't about a deadly demonically possessed dessert cake. Still, this exceptionally awful, yet undeniably amusing and thus enjoyable cathode ray refuse reaches a breathtaking apex of absolute, unremitting silliness and atrociousness that's quite tasty in a so-execrable-it's-downright-awesome sort of way. Richard Crenna, looking haggard and possibly inebriated, and Yvette Mimieux, who acts as if she never got over the brutal rape she endured in \"Jackson County Jail,\" sluggishly portray a disgustingly nice and respectable suburbanite couple whose quaint, dull, sleepy small town existence gets ripped asunder when the cute German Shepard they take in as the family pet turns out to be some ancient lethal evil spirit. Pretty soon Mimieux and her two repellently cutesy kids Kim Richards and Ike Eisenmann (the psychic alien moppets from the Disney \"Witch Mountain\" pictures) are worshiping a crude crayon drawing of the nasty, ugly canine entity in the den. Boy, now doesn't that sound really scary and disturbing? Well, scary and disturbing this laughably ludicrous claptrap sure ain't, but it sure is funny, thanks to Curtis (\"Night Tide\") Harrington's hopelessly weak direction, cartoonish (not so) special effects, an almost painfully risible'n'ridiculous plot, and a game cast that struggles valiantly with the absurd story (besides the leads, both Martine Beswicke and R.G. Armstrong briefly pop up as members of a Satanic cult and Victor Jory has a nice cameo as a helpful Native American shaman). Favorite scene: the malicious Mephestophelion mutt puts the whammy on Crenna, practically forcing him to stick his hand into a wildly spinning lawnmower blade. While stuck-up snobby fright film fans may hold their noses at the perfectly putrid stench of this admittedly smelly schlock, devout TV trash lovers should deem this endearingly abominable offal the boob tube equivalent to Alpo.   \n",
       "\n",
       "    sentiment predictions  \n",
       "6    positive    negative  \n",
       "16   positive    negative  \n",
       "52   positive    negative  \n",
       "72   positive    negative  \n",
       "103  positive    negative  "
      ]
     },
     "execution_count": 42,
     "metadata": {},
     "output_type": "execute_result"
    }
   ],
   "source": [
    "# Find all rows with false prediction and print the full review\n",
    "false_negatives = movies[(movies['sentiment'] == 'positive') & (movies['predictions'] == 'negative')]\n",
    "pd.set_option('display.max_colwidth', None)\n",
    "print(\"False negatives:\")\n",
    "false_negatives.head(5)"
   ]
  },
  {
   "cell_type": "code",
   "execution_count": 43,
   "metadata": {},
   "outputs": [
    {
     "name": "stdout",
     "output_type": "stream",
     "text": [
      "False positives:\n"
     ]
    },
    {
     "data": {
      "text/html": [
       "<div>\n",
       "<style scoped>\n",
       "    .dataframe tbody tr th:only-of-type {\n",
       "        vertical-align: middle;\n",
       "    }\n",
       "\n",
       "    .dataframe tbody tr th {\n",
       "        vertical-align: top;\n",
       "    }\n",
       "\n",
       "    .dataframe thead th {\n",
       "        text-align: right;\n",
       "    }\n",
       "</style>\n",
       "<table border=\"1\" class=\"dataframe\">\n",
       "  <thead>\n",
       "    <tr style=\"text-align: right;\">\n",
       "      <th></th>\n",
       "      <th>review</th>\n",
       "      <th>sentiment</th>\n",
       "      <th>predictions</th>\n",
       "    </tr>\n",
       "  </thead>\n",
       "  <tbody>\n",
       "    <tr>\n",
       "      <th>13</th>\n",
       "      <td>The cast played Shakespeare.&lt;br /&gt;&lt;br /&gt;Shakespeare lost.&lt;br /&gt;&lt;br /&gt;I appreciate that this is trying to bring Shakespeare to the masses, but why ruin something so good.&lt;br /&gt;&lt;br /&gt;Is it because 'The Scottish Play' is my favorite Shakespeare? I do not know. What I do know is that a certain Rev Bowdler (hence bowdlerization) tried to do something similar in the Victorian era.&lt;br /&gt;&lt;br /&gt;In other words, you cannot improve perfection.&lt;br /&gt;&lt;br /&gt;I have no more to write but as I have to write at least ten lines of text (and English composition was never my forte I will just have to keep going and say that this movie, as the saying goes, just does not cut it.</td>\n",
       "      <td>negative</td>\n",
       "      <td>positive</td>\n",
       "    </tr>\n",
       "    <tr>\n",
       "      <th>49</th>\n",
       "      <td>Average (and surprisingly tame) Fulci giallo which means it's still quite bad by normal standards, but redeemed by its solid build-up and some nice touches such as a neat time twist on the issues of visions and clairvoyance.&lt;br /&gt;&lt;br /&gt;The genre's well-known weaknesses are in full gear: banal dialogue, wooden acting, illogical plot points. And the finale goes on much too long, while the denouement proves to be a rather lame or shall I say: limp affair.&lt;br /&gt;&lt;br /&gt;Fulci's ironic handling of giallo norms is amusing, though. Yellow clues wherever you look.&lt;br /&gt;&lt;br /&gt;3 out of 10 limping killers</td>\n",
       "      <td>negative</td>\n",
       "      <td>positive</td>\n",
       "    </tr>\n",
       "    <tr>\n",
       "      <th>67</th>\n",
       "      <td>I really like Salman Kahn so I was really disappointed when I seen this movie. It didn't have much of a plot and what they did have was not that appealing. Salman however did look good in the movie looked young and refreshed but was worth the price of this DVD. The music was not bad it was quite nice. Usually Indian movies are at least two to three hours long but this was a very short movie for an Indian film. The American actress that played in the movie is from the television hit series Heroes, Ali Larter. Her acting had a lot to be desired. However she did look good in the Indian dresses that she wore. All the movie had not a lot to be desired and I hope Salman does a lot better on his next movie. Thank you.</td>\n",
       "      <td>negative</td>\n",
       "      <td>positive</td>\n",
       "    </tr>\n",
       "    <tr>\n",
       "      <th>112</th>\n",
       "      <td>It's terrific when a funny movie doesn't make smile you. What a pity!! This film is very boring and so long. It's simply painfull. The story is staggering without goal and no fun.&lt;br /&gt;&lt;br /&gt;You feel better when it's finished.</td>\n",
       "      <td>negative</td>\n",
       "      <td>positive</td>\n",
       "    </tr>\n",
       "    <tr>\n",
       "      <th>139</th>\n",
       "      <td>I caught this film on AZN on cable. It sounded like it would be a good film, a Japanese \"Green Card\". I can't say I've ever disliked an Asian film, quite the contrary. Some of the most incredible horror films of all time are Japanese and Korean, and I am a HUGE fan of John Woo's Hong Kong films. I an not adverse to a light hearted films, like Tampopo or Chung King Express (two of my favourites), so I thought I would like this. Well, I would rather slit my wrists and drink my own blood than watch this laborious, badly acted film ever again.&lt;br /&gt;&lt;br /&gt;I think the director Steven Okazaki must have spiked the water with Quaalude, because no one in this film had a personality. And when any of the characters DID try to act, as opposed to mumbling a line or two, their performance came across as forced and incredibly fake. I honestly did not think that anyone had ever acted before...the ONLY person who sounded genuine was Brenda Aoki.. I find it amazing that this is promoted as a comedy, because I didn't laugh once. Even MORE surprising is that CBS morning news called this \"a refreshing breath of comedy\". It was neither refreshing, nor a breath of comedy. And the ending was very predictable, the previous reviewer must be an idiot to think such things.&lt;br /&gt;&lt;br /&gt;AVOID this film unless you want to see a boring predictable plot line and wooden acting. I actually think that \"Spike of Bensonhurst\" is a better acted film than this...and I walked out half way through that film!</td>\n",
       "      <td>negative</td>\n",
       "      <td>positive</td>\n",
       "    </tr>\n",
       "  </tbody>\n",
       "</table>\n",
       "</div>"
      ],
      "text/plain": [
       "                                                                                                                                                                                                                                                                                                                                                                                                                                                                                                                                                                                                                                                                                                                                                                                                                                                                                                                                                                                                                                                                                                                                                                                                                                                                                                                                                                                                                                                                                                                                                review  \\\n",
       "13                                                                                                                                                                                                                                                                                                                                                                                                                                                                                                                                                                                                                                                                                                                                                                                                                                                              The cast played Shakespeare.<br /><br />Shakespeare lost.<br /><br />I appreciate that this is trying to bring Shakespeare to the masses, but why ruin something so good.<br /><br />Is it because 'The Scottish Play' is my favorite Shakespeare? I do not know. What I do know is that a certain Rev Bowdler (hence bowdlerization) tried to do something similar in the Victorian era.<br /><br />In other words, you cannot improve perfection.<br /><br />I have no more to write but as I have to write at least ten lines of text (and English composition was never my forte I will just have to keep going and say that this movie, as the saying goes, just does not cut it.   \n",
       "49                                                                                                                                                                                                                                                                                                                                                                                                                                                                                                                                                                                                                                                                                                                                                                                                                                                                                                                              Average (and surprisingly tame) Fulci giallo which means it's still quite bad by normal standards, but redeemed by its solid build-up and some nice touches such as a neat time twist on the issues of visions and clairvoyance.<br /><br />The genre's well-known weaknesses are in full gear: banal dialogue, wooden acting, illogical plot points. And the finale goes on much too long, while the denouement proves to be a rather lame or shall I say: limp affair.<br /><br />Fulci's ironic handling of giallo norms is amusing, though. Yellow clues wherever you look.<br /><br />3 out of 10 limping killers   \n",
       "67                                                                                                                                                                                                                                                                                                                                                                                                                                                                                                                                                                                                                                                                                                                                                                                                    I really like Salman Kahn so I was really disappointed when I seen this movie. It didn't have much of a plot and what they did have was not that appealing. Salman however did look good in the movie looked young and refreshed but was worth the price of this DVD. The music was not bad it was quite nice. Usually Indian movies are at least two to three hours long but this was a very short movie for an Indian film. The American actress that played in the movie is from the television hit series Heroes, Ali Larter. Her acting had a lot to be desired. However she did look good in the Indian dresses that she wore. All the movie had not a lot to be desired and I hope Salman does a lot better on his next movie. Thank you.   \n",
       "112                                                                                                                                                                                                                                                                                                                                                                                                                                                                                                                                                                                                                                                                                                                                                                                                                                                                                                                                                                                                                                                                                                                                                                                                                                                                                                                 It's terrific when a funny movie doesn't make smile you. What a pity!! This film is very boring and so long. It's simply painfull. The story is staggering without goal and no fun.<br /><br />You feel better when it's finished.   \n",
       "139  I caught this film on AZN on cable. It sounded like it would be a good film, a Japanese \"Green Card\". I can't say I've ever disliked an Asian film, quite the contrary. Some of the most incredible horror films of all time are Japanese and Korean, and I am a HUGE fan of John Woo's Hong Kong films. I an not adverse to a light hearted films, like Tampopo or Chung King Express (two of my favourites), so I thought I would like this. Well, I would rather slit my wrists and drink my own blood than watch this laborious, badly acted film ever again.<br /><br />I think the director Steven Okazaki must have spiked the water with Quaalude, because no one in this film had a personality. And when any of the characters DID try to act, as opposed to mumbling a line or two, their performance came across as forced and incredibly fake. I honestly did not think that anyone had ever acted before...the ONLY person who sounded genuine was Brenda Aoki.. I find it amazing that this is promoted as a comedy, because I didn't laugh once. Even MORE surprising is that CBS morning news called this \"a refreshing breath of comedy\". It was neither refreshing, nor a breath of comedy. And the ending was very predictable, the previous reviewer must be an idiot to think such things.<br /><br />AVOID this film unless you want to see a boring predictable plot line and wooden acting. I actually think that \"Spike of Bensonhurst\" is a better acted film than this...and I walked out half way through that film!   \n",
       "\n",
       "    sentiment predictions  \n",
       "13   negative    positive  \n",
       "49   negative    positive  \n",
       "67   negative    positive  \n",
       "112  negative    positive  \n",
       "139  negative    positive  "
      ]
     },
     "execution_count": 43,
     "metadata": {},
     "output_type": "execute_result"
    }
   ],
   "source": [
    "# Find all rows with false prediction and print the full review\n",
    "false_positives = movies[(movies['sentiment'] == 'negative') & (movies['predictions'] == 'positive')]\n",
    "pd.set_option('display.max_colwidth', None)\n",
    "print(\"False positives:\")\n",
    "false_positives.head(5)"
   ]
  },
  {
   "cell_type": "markdown",
   "metadata": {},
   "source": [
    "# We have not reduced the words in this Model to a bag of words"
   ]
  },
  {
   "cell_type": "code",
   "execution_count": null,
   "metadata": {},
   "outputs": [],
   "source": []
  }
 ],
 "metadata": {
  "kernelspec": {
   "display_name": "Python 3",
   "language": "python",
   "name": "python3"
  },
  "language_info": {
   "codemirror_mode": {
    "name": "ipython",
    "version": 3
   },
   "file_extension": ".py",
   "mimetype": "text/x-python",
   "name": "python",
   "nbconvert_exporter": "python",
   "pygments_lexer": "ipython3",
   "version": "3.10.13"
  }
 },
 "nbformat": 4,
 "nbformat_minor": 4
}
